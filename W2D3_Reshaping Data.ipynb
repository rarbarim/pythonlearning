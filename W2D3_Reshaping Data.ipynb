{
 "cells": [
  {
   "cell_type": "markdown",
   "metadata": {
    "colab_type": "text",
    "id": "0kQhZ-5bKrxR"
   },
   "source": [
    "<h2>Soal 1: Pivoting and Melting</h2>\n",
    "\n",
    "Jelaskan itu pivoting dan melting data"
   ]
  },
  {
   "cell_type": "markdown",
   "metadata": {
    "colab_type": "text",
    "id": "O7OpqeB9KrxX"
   },
   "source": [
    "jawaban: \n",
    "Pivoting: adalah metode untuk memutar data yang terletak di baris menjadi kolom\n",
    "Melting: adalah kebalikan dari pivoting, bentuk struktur datanya berubah menjadi memanjang \n"
   ]
  },
  {
   "cell_type": "markdown",
   "metadata": {
    "colab_type": "text",
    "id": "jImnOOlTKrxa"
   },
   "source": [
    "<h2>Soal 2: Data structure Comprehension</h2>\n",
    "\n",
    "Data yang rapi adalah:\n",
    "1. Setiap row menunjukan suatu unit observasi\n",
    "2. Setiap column merupakan suatu unit variable\n",
    "\n",
    "Bagaimana pun, dalam menentukan unit observasi itu tergantung dari kasus yang di hadapi. sebagai seorang data scientist pasti akan menemukan berbagai bentuk struktur data. adalah sangat penting bagi seorang data scientist untuk dapat memahami dan menjelaskan setiap struktur data. Kemampuan memahami hubungan antara index baris, column dan isi data adalah kunci untuk memahami informasi apa yang data sedang beritahukan kepada kita.\n",
    "\n",
    "Di bawah ini terdapat 2 data yang berisi sama, tetapi memiliki struktur yang berbeda. Jelaskan perbedaan dari 2 struktur data tersebut"
   ]
  },
  {
   "cell_type": "markdown",
   "metadata": {
    "colab_type": "text",
    "id": "HYtZqGxLKrxc"
   },
   "source": [
    "![alt text](https://drive.google.com/uc?id=1h13CDPzIjc-2XyRcyu-p1fet0Ep1gdMA)"
   ]
  },
  {
   "cell_type": "markdown",
   "metadata": {
    "colab_type": "text",
    "id": "nn4EuLbnKrxf"
   },
   "source": [
    "![alt text](https://drive.google.com/uc?id=12ji98ell5tNcCxeBzl4v8qqBtFMgDSr0)"
   ]
  },
  {
   "cell_type": "markdown",
   "metadata": {
    "colab_type": "text",
    "id": "_fixNOUAKrxh"
   },
   "source": [
    "Kedua data tersebut menjelaskan rerata waktu belajar untuk menyiapkan ujian di setiap mata pelajaran.\n",
    "Struktur data pertama menunjukkan data yang sudah diklasifikasikan sesuai kategori. Sehingga lebih singkat dan menampilkan data yang lebih efektif. Sedangkan struktur data kedua menampilkan data mentah dan masih terdapat perulangan identifier.  "
   ]
  },
  {
   "cell_type": "markdown",
   "metadata": {
    "colab_type": "text",
    "id": "Vxig2IeYKrxj"
   },
   "source": [
    "<h2>Soal 3: Reshaping Data 1</h2>"
   ]
  },
  {
   "cell_type": "code",
   "execution_count": 1,
   "metadata": {
    "colab": {},
    "colab_type": "code",
    "id": "4Jp7bLWNKrxl",
    "outputId": "8d4a7776-1464-4de3-f18b-3a6c79c65800"
   },
   "outputs": [
    {
     "data": {
      "text/html": [
       "<div>\n",
       "<style scoped>\n",
       "    .dataframe tbody tr th:only-of-type {\n",
       "        vertical-align: middle;\n",
       "    }\n",
       "\n",
       "    .dataframe tbody tr th {\n",
       "        vertical-align: top;\n",
       "    }\n",
       "\n",
       "    .dataframe thead th {\n",
       "        text-align: right;\n",
       "    }\n",
       "</style>\n",
       "<table border=\"1\" class=\"dataframe\">\n",
       "  <thead>\n",
       "    <tr style=\"text-align: right;\">\n",
       "      <th></th>\n",
       "      <th>Tipe Ujian</th>\n",
       "      <th>Mata Pelajaran</th>\n",
       "      <th>Rata2 Waktu Belajar (menit)</th>\n",
       "      <th>Rata2 Nilai Ujian</th>\n",
       "    </tr>\n",
       "  </thead>\n",
       "  <tbody>\n",
       "    <tr>\n",
       "      <th>0</th>\n",
       "      <td>UTS1</td>\n",
       "      <td>Fisika</td>\n",
       "      <td>655</td>\n",
       "      <td>42</td>\n",
       "    </tr>\n",
       "    <tr>\n",
       "      <th>1</th>\n",
       "      <td>UAS1</td>\n",
       "      <td>Fisika</td>\n",
       "      <td>788</td>\n",
       "      <td>62</td>\n",
       "    </tr>\n",
       "    <tr>\n",
       "      <th>2</th>\n",
       "      <td>UTS2</td>\n",
       "      <td>Fisika</td>\n",
       "      <td>320</td>\n",
       "      <td>66</td>\n",
       "    </tr>\n",
       "    <tr>\n",
       "      <th>3</th>\n",
       "      <td>UAS2</td>\n",
       "      <td>Fisika</td>\n",
       "      <td>285</td>\n",
       "      <td>56</td>\n",
       "    </tr>\n",
       "    <tr>\n",
       "      <th>4</th>\n",
       "      <td>UTS1</td>\n",
       "      <td>Matematika</td>\n",
       "      <td>408</td>\n",
       "      <td>78</td>\n",
       "    </tr>\n",
       "    <tr>\n",
       "      <th>5</th>\n",
       "      <td>UAS1</td>\n",
       "      <td>Matematika</td>\n",
       "      <td>687</td>\n",
       "      <td>47</td>\n",
       "    </tr>\n",
       "    <tr>\n",
       "      <th>6</th>\n",
       "      <td>UTS2</td>\n",
       "      <td>Matematika</td>\n",
       "      <td>215</td>\n",
       "      <td>50</td>\n",
       "    </tr>\n",
       "    <tr>\n",
       "      <th>7</th>\n",
       "      <td>UAS2</td>\n",
       "      <td>Matematika</td>\n",
       "      <td>318</td>\n",
       "      <td>63</td>\n",
       "    </tr>\n",
       "    <tr>\n",
       "      <th>8</th>\n",
       "      <td>UTS1</td>\n",
       "      <td>Statistika</td>\n",
       "      <td>349</td>\n",
       "      <td>97</td>\n",
       "    </tr>\n",
       "    <tr>\n",
       "      <th>9</th>\n",
       "      <td>UAS1</td>\n",
       "      <td>Statistika</td>\n",
       "      <td>764</td>\n",
       "      <td>48</td>\n",
       "    </tr>\n",
       "    <tr>\n",
       "      <th>10</th>\n",
       "      <td>UTS2</td>\n",
       "      <td>Statistika</td>\n",
       "      <td>710</td>\n",
       "      <td>99</td>\n",
       "    </tr>\n",
       "    <tr>\n",
       "      <th>11</th>\n",
       "      <td>UAS2</td>\n",
       "      <td>Statistika</td>\n",
       "      <td>208</td>\n",
       "      <td>55</td>\n",
       "    </tr>\n",
       "  </tbody>\n",
       "</table>\n",
       "</div>"
      ],
      "text/plain": [
       "   Tipe Ujian Mata Pelajaran  Rata2 Waktu Belajar (menit)  Rata2 Nilai Ujian\n",
       "0        UTS1         Fisika                          655                 42\n",
       "1        UAS1         Fisika                          788                 62\n",
       "2        UTS2         Fisika                          320                 66\n",
       "3        UAS2         Fisika                          285                 56\n",
       "4        UTS1     Matematika                          408                 78\n",
       "5        UAS1     Matematika                          687                 47\n",
       "6        UTS2     Matematika                          215                 50\n",
       "7        UAS2     Matematika                          318                 63\n",
       "8        UTS1     Statistika                          349                 97\n",
       "9        UAS1     Statistika                          764                 48\n",
       "10       UTS2     Statistika                          710                 99\n",
       "11       UAS2     Statistika                          208                 55"
      ]
     },
     "execution_count": 1,
     "metadata": {},
     "output_type": "execute_result"
    }
   ],
   "source": [
    "import pandas as pd\n",
    "import random\n",
    "\n",
    "data = {\n",
    "    'Tipe Ujian' : ['UTS1', 'UAS1', 'UTS2', 'UAS2']*3,\n",
    "    'Mata Pelajaran' : ['Fisika']*4 + ['Matematika']*4+['Statistika']*4,\n",
    "    'Rata2 Waktu Belajar (menit)' : [random.choice(range(200, 800)) for i in range(12)],\n",
    "    'Rata2 Nilai Ujian' : [random.choice(range(40, 100)) for i in range(12)] \n",
    "}\n",
    "df = pd.DataFrame(data)\n",
    "df"
   ]
  },
  {
   "cell_type": "markdown",
   "metadata": {
    "colab_type": "text",
    "id": "G3yKJFwTKrx8"
   },
   "source": [
    "Perhatikan data di atas, kemudian ubahlah bentuknya agar sesuai yang di harapkan."
   ]
  },
  {
   "cell_type": "code",
   "execution_count": 3,
   "metadata": {
    "colab": {},
    "colab_type": "code",
    "id": "ztFDyKDYKrx-"
   },
   "outputs": [
    {
     "data": {
      "text/html": [
       "<div>\n",
       "<style scoped>\n",
       "    .dataframe tbody tr th:only-of-type {\n",
       "        vertical-align: middle;\n",
       "    }\n",
       "\n",
       "    .dataframe tbody tr th {\n",
       "        vertical-align: top;\n",
       "    }\n",
       "\n",
       "    .dataframe thead tr th {\n",
       "        text-align: left;\n",
       "    }\n",
       "\n",
       "    .dataframe thead tr:last-of-type th {\n",
       "        text-align: right;\n",
       "    }\n",
       "</style>\n",
       "<table border=\"1\" class=\"dataframe\">\n",
       "  <thead>\n",
       "    <tr>\n",
       "      <th></th>\n",
       "      <th colspan=\"3\" halign=\"left\">Rata2 Nilai Ujian</th>\n",
       "      <th colspan=\"3\" halign=\"left\">Rata2 Waktu Belajar (menit)</th>\n",
       "    </tr>\n",
       "    <tr>\n",
       "      <th>Mata Pelajaran</th>\n",
       "      <th>Fisika</th>\n",
       "      <th>Matematika</th>\n",
       "      <th>Statistika</th>\n",
       "      <th>Fisika</th>\n",
       "      <th>Matematika</th>\n",
       "      <th>Statistika</th>\n",
       "    </tr>\n",
       "    <tr>\n",
       "      <th>Tipe Ujian</th>\n",
       "      <th></th>\n",
       "      <th></th>\n",
       "      <th></th>\n",
       "      <th></th>\n",
       "      <th></th>\n",
       "      <th></th>\n",
       "    </tr>\n",
       "  </thead>\n",
       "  <tbody>\n",
       "    <tr>\n",
       "      <th>UAS1</th>\n",
       "      <td>62</td>\n",
       "      <td>47</td>\n",
       "      <td>48</td>\n",
       "      <td>788</td>\n",
       "      <td>687</td>\n",
       "      <td>764</td>\n",
       "    </tr>\n",
       "    <tr>\n",
       "      <th>UAS2</th>\n",
       "      <td>56</td>\n",
       "      <td>63</td>\n",
       "      <td>55</td>\n",
       "      <td>285</td>\n",
       "      <td>318</td>\n",
       "      <td>208</td>\n",
       "    </tr>\n",
       "    <tr>\n",
       "      <th>UTS1</th>\n",
       "      <td>42</td>\n",
       "      <td>78</td>\n",
       "      <td>97</td>\n",
       "      <td>655</td>\n",
       "      <td>408</td>\n",
       "      <td>349</td>\n",
       "    </tr>\n",
       "    <tr>\n",
       "      <th>UTS2</th>\n",
       "      <td>66</td>\n",
       "      <td>50</td>\n",
       "      <td>99</td>\n",
       "      <td>320</td>\n",
       "      <td>215</td>\n",
       "      <td>710</td>\n",
       "    </tr>\n",
       "  </tbody>\n",
       "</table>\n",
       "</div>"
      ],
      "text/plain": [
       "               Rata2 Nilai Ujian                        \\\n",
       "Mata Pelajaran            Fisika Matematika Statistika   \n",
       "Tipe Ujian                                               \n",
       "UAS1                          62         47         48   \n",
       "UAS2                          56         63         55   \n",
       "UTS1                          42         78         97   \n",
       "UTS2                          66         50         99   \n",
       "\n",
       "               Rata2 Waktu Belajar (menit)                        \n",
       "Mata Pelajaran                      Fisika Matematika Statistika  \n",
       "Tipe Ujian                                                        \n",
       "UAS1                                   788        687        764  \n",
       "UAS2                                   285        318        208  \n",
       "UTS1                                   655        408        349  \n",
       "UTS2                                   320        215        710  "
      ]
     },
     "execution_count": 3,
     "metadata": {},
     "output_type": "execute_result"
    }
   ],
   "source": [
    "# code here\n",
    "pd.pivot(df, index = 'Tipe Ujian', columns = 'Mata Pelajaran', values = ['Rata2 Nilai Ujian','Rata2 Waktu Belajar (menit)'])"
   ]
  },
  {
   "cell_type": "markdown",
   "metadata": {
    "colab_type": "text",
    "id": "xA8ZlQErKryO"
   },
   "source": [
    "Expected Result:\n",
    "\n",
    "![alt text](https://drive.google.com/uc?id=1XufsfqZe7-XZLsb92SpATexy-QRZE0ow)"
   ]
  },
  {
   "cell_type": "markdown",
   "metadata": {
    "colab_type": "text",
    "id": "pXb8LRDWKryQ"
   },
   "source": [
    "<h2>Soal 4: Reshaping Data 2</h2>"
   ]
  },
  {
   "cell_type": "code",
   "execution_count": 15,
   "metadata": {
    "colab": {},
    "colab_type": "code",
    "id": "LHe2XZyNKryS",
    "outputId": "74fd1590-9eb9-4a84-c1f5-a33a0379a7ee"
   },
   "outputs": [
    {
     "data": {
      "text/html": [
       "<div>\n",
       "<style scoped>\n",
       "    .dataframe tbody tr th:only-of-type {\n",
       "        vertical-align: middle;\n",
       "    }\n",
       "\n",
       "    .dataframe tbody tr th {\n",
       "        vertical-align: top;\n",
       "    }\n",
       "\n",
       "    .dataframe thead th {\n",
       "        text-align: right;\n",
       "    }\n",
       "</style>\n",
       "<table border=\"1\" class=\"dataframe\">\n",
       "  <thead>\n",
       "    <tr style=\"text-align: right;\">\n",
       "      <th></th>\n",
       "      <th>Hari</th>\n",
       "      <th>Tempat Hiburan</th>\n",
       "      <th>Pengunjung</th>\n",
       "    </tr>\n",
       "  </thead>\n",
       "  <tbody>\n",
       "    <tr>\n",
       "      <th>0</th>\n",
       "      <td>Sabtu</td>\n",
       "      <td>Kebun Binatang</td>\n",
       "      <td>271</td>\n",
       "    </tr>\n",
       "    <tr>\n",
       "      <th>1</th>\n",
       "      <td>Minggu</td>\n",
       "      <td>Kebun Binatang</td>\n",
       "      <td>399</td>\n",
       "    </tr>\n",
       "    <tr>\n",
       "      <th>2</th>\n",
       "      <td>Sabtu</td>\n",
       "      <td>Dufan</td>\n",
       "      <td>501</td>\n",
       "    </tr>\n",
       "    <tr>\n",
       "      <th>3</th>\n",
       "      <td>Minggu</td>\n",
       "      <td>Dufan</td>\n",
       "      <td>700</td>\n",
       "    </tr>\n",
       "    <tr>\n",
       "      <th>4</th>\n",
       "      <td>Sabtu</td>\n",
       "      <td>Disney</td>\n",
       "      <td>1000</td>\n",
       "    </tr>\n",
       "    <tr>\n",
       "      <th>5</th>\n",
       "      <td>Minggu</td>\n",
       "      <td>Disney</td>\n",
       "      <td>1001</td>\n",
       "    </tr>\n",
       "    <tr>\n",
       "      <th>6</th>\n",
       "      <td>Sabtu</td>\n",
       "      <td>Bali</td>\n",
       "      <td>900</td>\n",
       "    </tr>\n",
       "    <tr>\n",
       "      <th>7</th>\n",
       "      <td>Minggu</td>\n",
       "      <td>Bali</td>\n",
       "      <td>803</td>\n",
       "    </tr>\n",
       "  </tbody>\n",
       "</table>\n",
       "</div>"
      ],
      "text/plain": [
       "     Hari  Tempat Hiburan  Pengunjung\n",
       "0   Sabtu  Kebun Binatang         271\n",
       "1  Minggu  Kebun Binatang         399\n",
       "2   Sabtu           Dufan         501\n",
       "3  Minggu           Dufan         700\n",
       "4   Sabtu          Disney        1000\n",
       "5  Minggu          Disney        1001\n",
       "6   Sabtu            Bali         900\n",
       "7  Minggu            Bali         803"
      ]
     },
     "execution_count": 15,
     "metadata": {},
     "output_type": "execute_result"
    }
   ],
   "source": [
    "import pandas as pd\n",
    "\n",
    "data = {\n",
    "    'Hari' : ['Sabtu', 'Minggu'],\n",
    "    'Kebun Binatang' : [271, 399],\n",
    "    'Dufan' : [501, 700],\n",
    "    'Disney' : [1000, 1001],\n",
    "    'Bali' : [900, 803]\n",
    "}\n",
    "df = pd.DataFrame(data).set_index('Hari')\n",
    "df = df.reset_index()\n",
    "\n",
    "df.melt(id_vars = ['Hari'], value_vars = ['Kebun Binatang', 'Dufan', 'Disney', 'Bali'], var_name = 'Tempat Hiburan', value_name = 'Pengunjung')"
   ]
  },
  {
   "cell_type": "markdown",
   "metadata": {
    "colab_type": "text",
    "id": "w87S4Xl_Kryg"
   },
   "source": [
    "diatas adalah data tentang jumlah pengunjung di berbagai tempat hiburan, ubahlah struktur data tersebut sehingga sesuai dengan hasil yang diharapkan."
   ]
  },
  {
   "cell_type": "markdown",
   "metadata": {
    "colab_type": "text",
    "id": "d7_5dDsRKryi"
   },
   "source": [
    "Expected Result:\n",
    "\n",
    "![alt text](https://drive.google.com/uc?id=159mIqcyfeD30EEcyZmmkovORa6cZDLtn)"
   ]
  },
  {
   "cell_type": "markdown",
   "metadata": {
    "colab_type": "text",
    "id": "GGHgeYkEKryk"
   },
   "source": [
    "<h2>Soal 5: Pivoting and Aggregating</h2>"
   ]
  },
  {
   "cell_type": "code",
   "execution_count": 17,
   "metadata": {
    "colab": {},
    "colab_type": "code",
    "id": "iKMM155KKryn",
    "outputId": "19a22476-9193-4a03-d93f-aa7aa58f5bcd"
   },
   "outputs": [
    {
     "data": {
      "text/html": [
       "<div>\n",
       "<style scoped>\n",
       "    .dataframe tbody tr th:only-of-type {\n",
       "        vertical-align: middle;\n",
       "    }\n",
       "\n",
       "    .dataframe tbody tr th {\n",
       "        vertical-align: top;\n",
       "    }\n",
       "\n",
       "    .dataframe thead th {\n",
       "        text-align: right;\n",
       "    }\n",
       "</style>\n",
       "<table border=\"1\" class=\"dataframe\">\n",
       "  <thead>\n",
       "    <tr style=\"text-align: right;\">\n",
       "      <th></th>\n",
       "      <th>Mata Pelajaran</th>\n",
       "      <th>Jumlah Peserta</th>\n",
       "    </tr>\n",
       "    <tr>\n",
       "      <th>Tipe Ujian</th>\n",
       "      <th></th>\n",
       "      <th></th>\n",
       "    </tr>\n",
       "  </thead>\n",
       "  <tbody>\n",
       "    <tr>\n",
       "      <th>UTS1</th>\n",
       "      <td>Statistika</td>\n",
       "      <td>14</td>\n",
       "    </tr>\n",
       "    <tr>\n",
       "      <th>UAS1</th>\n",
       "      <td>Fisika</td>\n",
       "      <td>17</td>\n",
       "    </tr>\n",
       "    <tr>\n",
       "      <th>UTS1</th>\n",
       "      <td>Fisika</td>\n",
       "      <td>12</td>\n",
       "    </tr>\n",
       "    <tr>\n",
       "      <th>UAS1</th>\n",
       "      <td>Statistika</td>\n",
       "      <td>16</td>\n",
       "    </tr>\n",
       "    <tr>\n",
       "      <th>UTS1</th>\n",
       "      <td>Fisika</td>\n",
       "      <td>14</td>\n",
       "    </tr>\n",
       "    <tr>\n",
       "      <th>UAS1</th>\n",
       "      <td>Statistika</td>\n",
       "      <td>13</td>\n",
       "    </tr>\n",
       "  </tbody>\n",
       "</table>\n",
       "</div>"
      ],
      "text/plain": [
       "           Mata Pelajaran  Jumlah Peserta\n",
       "Tipe Ujian                               \n",
       "UTS1           Statistika              14\n",
       "UAS1               Fisika              17\n",
       "UTS1               Fisika              12\n",
       "UAS1           Statistika              16\n",
       "UTS1               Fisika              14\n",
       "UAS1           Statistika              13"
      ]
     },
     "execution_count": 17,
     "metadata": {},
     "output_type": "execute_result"
    }
   ],
   "source": [
    "import pandas as pd\n",
    "\n",
    "data = {\n",
    "    'Tipe Ujian' : ['UTS1', 'UAS1']*3,\n",
    "    'Mata Pelajaran' :['Statistika', 'Fisika', 'Fisika', 'Statistika', 'Fisika', 'Statistika'],\n",
    "    'Jumlah Peserta' : [14, 17, 12, 16, 14, 13]\n",
    "}\n",
    "df = pd.DataFrame(data).set_index('Tipe Ujian')\n",
    "df"
   ]
  },
  {
   "cell_type": "markdown",
   "metadata": {
    "colab_type": "text",
    "id": "odnDYRM3Kryz"
   },
   "source": [
    "Perhatikan bahwa data jumlah peserta ujian untuk suatu tipe ujian dan mata pelajaran tertentu ada yang duplikat, ubahlah struktur data tersebut dan lakukan aggregasi berjenis jumlah sehingga sesuai dengan hasil yang di harapkan\n",
    "\n",
    "Expected Result:\n",
    "\n",
    "![alt text](https://drive.google.com/uc?id=1emoz7orYR-0mCHffvAgM8j-V1P6yVHf0)"
   ]
  },
  {
   "cell_type": "code",
   "execution_count": 18,
   "metadata": {
    "colab": {},
    "colab_type": "code",
    "id": "gLKJlUYgKry3"
   },
   "outputs": [
    {
     "data": {
      "text/html": [
       "<div>\n",
       "<style scoped>\n",
       "    .dataframe tbody tr th:only-of-type {\n",
       "        vertical-align: middle;\n",
       "    }\n",
       "\n",
       "    .dataframe tbody tr th {\n",
       "        vertical-align: top;\n",
       "    }\n",
       "\n",
       "    .dataframe thead th {\n",
       "        text-align: right;\n",
       "    }\n",
       "</style>\n",
       "<table border=\"1\" class=\"dataframe\">\n",
       "  <thead>\n",
       "    <tr style=\"text-align: right;\">\n",
       "      <th>Mata Pelajaran</th>\n",
       "      <th>Fisika</th>\n",
       "      <th>Statistika</th>\n",
       "    </tr>\n",
       "    <tr>\n",
       "      <th>Tipe Ujian</th>\n",
       "      <th></th>\n",
       "      <th></th>\n",
       "    </tr>\n",
       "  </thead>\n",
       "  <tbody>\n",
       "    <tr>\n",
       "      <th>UAS1</th>\n",
       "      <td>17</td>\n",
       "      <td>29</td>\n",
       "    </tr>\n",
       "    <tr>\n",
       "      <th>UTS1</th>\n",
       "      <td>26</td>\n",
       "      <td>14</td>\n",
       "    </tr>\n",
       "  </tbody>\n",
       "</table>\n",
       "</div>"
      ],
      "text/plain": [
       "Mata Pelajaran  Fisika  Statistika\n",
       "Tipe Ujian                        \n",
       "UAS1                17          29\n",
       "UTS1                26          14"
      ]
     },
     "execution_count": 18,
     "metadata": {},
     "output_type": "execute_result"
    }
   ],
   "source": [
    "#Code here\n",
    "pd.pivot_table(df, index = 'Tipe Ujian', columns = 'Mata Pelajaran', values = 'Jumlah Peserta', aggfunc = 'sum')"
   ]
  },
  {
   "cell_type": "code",
   "execution_count": null,
   "metadata": {},
   "outputs": [],
   "source": []
  }
 ],
 "metadata": {
  "colab": {
   "collapsed_sections": [],
   "name": "Tugas Hari 3 Pekan 2.ipynb",
   "provenance": []
  },
  "kernelspec": {
   "display_name": "Python 3",
   "language": "python",
   "name": "python3"
  },
  "language_info": {
   "codemirror_mode": {
    "name": "ipython",
    "version": 3
   },
   "file_extension": ".py",
   "mimetype": "text/x-python",
   "name": "python",
   "nbconvert_exporter": "python",
   "pygments_lexer": "ipython3",
   "version": "3.8.3"
  }
 },
 "nbformat": 4,
 "nbformat_minor": 1
}
