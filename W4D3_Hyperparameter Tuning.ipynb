{
 "cells": [
  {
   "cell_type": "markdown",
   "metadata": {
    "colab_type": "text",
    "id": "PrQVcF-ldGWQ"
   },
   "source": [
    "<h1> Soal 1: Pemahaman Tentang Model Evaluasi</h1>\n",
    "\n",
    "Jawab pertanyaan di bawah ini dengan bahasa masing-masing?\n",
    "\n",
    "1. Apa perbedaan antara data latih, data validasi, dan data test?\n",
    "2. Bagaimana cara kita menilai performa suatu model?\n",
    "3. Apa itu Confusion Matrix? Jelaskan secara lengkap!\n",
    "4. Apa itu Classification Report dari sklearn?"
   ]
  },
  {
   "cell_type": "markdown",
   "metadata": {
    "colab_type": "text",
    "id": "sr6D5UIhgpwO"
   },
   "source": [
    "Jawab:\n",
    "1. Data latih: adalah sampel data dari keseluruhan populasi yang akan dipakai untuk mencocokan model\n",
    "2. Data validasi: adalah data yang digunakan untuk mengevaluasi secara tidak bias selama proses penentuan hyperparameter\n",
    "3. Data test: adalah data yang digunakan untuk mengevaluasi secara tidak bias pada model akhir"
   ]
  },
  {
   "cell_type": "markdown",
   "metadata": {
    "colab_type": "text",
    "id": "uY-s7-KDgrkV"
   },
   "source": [
    "---"
   ]
  },
  {
   "cell_type": "markdown",
   "metadata": {
    "colab_type": "text",
    "id": "Fv2TVsgAdGWY"
   },
   "source": [
    "<h1>Soal 2: Aplikasi Model Evaluasi</h1>\n",
    "\n",
    "Kali ini kita akan menggunakan data untuk memprediksi kelangsungan hidup pasien yang telah mengalami operasi payudara. Dengan informasi yang dimiliki terkait pasien, kita akan membuat model untuk memprediksi apakah pasien akan bertahan hidup dalam waktu lebih dari 5 tahun atau tidak.\n",
    "\n",
    "Lebih Lengkapnya kalian bisa membaca informasi tentang dataset di link berikut: https://raw.githubusercontent.com/jbrownlee/Datasets/master/haberman.names\n",
    "\n",
    "Buat model Klasifikasi (Model/Algoritma Bebas) untuk memprediksi status pasien dengan ketentuan sebagai berikut:\n",
    "\n",
    "1. Bagi kedua data ini menjadi data training dan data test dengan test_size=0.25.\n",
    "3. Pelajar tentang metrics roc_auc_score kemudian buatlah model dan evaluasi dengan menggunakan teknik cross-validation dengan scoring 'roc_auc'. Baca https://scikit-learn.org/stable/modules/generated/sklearn.model_selection.cross_val_score.html untuk menggunakan metric roc_auc saat cross-validation.\n",
    "3. Berapa score rata2 dari model dengan teknik cross-validation tersebut?\n",
    "4. Prediksi data test dengan model yang telah kalian buat!\n",
    "5. Bagaimana hasil confusion matrix dari hasil prediksi tersebut?\n",
    "6. Bagaimana classification report dari hasil prediksi tersebut?\n",
    "5. Seberapa baik model anda dalam memprediksi seorang pasien mempunyai status positive?\n",
    "6. Seberapa baik model anda dalam memprediksi seorang pasien mempunyai status negatif?"
   ]
  },
  {
   "cell_type": "code",
   "execution_count": 113,
   "metadata": {
    "colab": {},
    "colab_type": "code",
    "id": "g4UqaWyPdGWj"
   },
   "outputs": [],
   "source": [
    "import pandas as pd\n",
    "\n",
    "url = 'https://raw.githubusercontent.com/jbrownlee/Datasets/master/haberman.csv'\n",
    "list_cols = ['Age', \"Patient's Years\", \"N_positive_ax\", \"survival_status\"]\n",
    "df = pd.read_csv(url, names=list_cols)"
   ]
  },
  {
   "cell_type": "code",
   "execution_count": 114,
   "metadata": {
    "colab": {},
    "colab_type": "code",
    "id": "YrbPNGtHdGXV"
   },
   "outputs": [
    {
     "data": {
      "text/html": [
       "<div>\n",
       "<style scoped>\n",
       "    .dataframe tbody tr th:only-of-type {\n",
       "        vertical-align: middle;\n",
       "    }\n",
       "\n",
       "    .dataframe tbody tr th {\n",
       "        vertical-align: top;\n",
       "    }\n",
       "\n",
       "    .dataframe thead th {\n",
       "        text-align: right;\n",
       "    }\n",
       "</style>\n",
       "<table border=\"1\" class=\"dataframe\">\n",
       "  <thead>\n",
       "    <tr style=\"text-align: right;\">\n",
       "      <th></th>\n",
       "      <th>Age</th>\n",
       "      <th>Patient's Years</th>\n",
       "      <th>N_positive_ax</th>\n",
       "      <th>survival_status</th>\n",
       "    </tr>\n",
       "  </thead>\n",
       "  <tbody>\n",
       "    <tr>\n",
       "      <th>0</th>\n",
       "      <td>30</td>\n",
       "      <td>64</td>\n",
       "      <td>1</td>\n",
       "      <td>1</td>\n",
       "    </tr>\n",
       "    <tr>\n",
       "      <th>1</th>\n",
       "      <td>30</td>\n",
       "      <td>62</td>\n",
       "      <td>3</td>\n",
       "      <td>1</td>\n",
       "    </tr>\n",
       "    <tr>\n",
       "      <th>2</th>\n",
       "      <td>30</td>\n",
       "      <td>65</td>\n",
       "      <td>0</td>\n",
       "      <td>1</td>\n",
       "    </tr>\n",
       "    <tr>\n",
       "      <th>3</th>\n",
       "      <td>31</td>\n",
       "      <td>59</td>\n",
       "      <td>2</td>\n",
       "      <td>1</td>\n",
       "    </tr>\n",
       "    <tr>\n",
       "      <th>4</th>\n",
       "      <td>31</td>\n",
       "      <td>65</td>\n",
       "      <td>4</td>\n",
       "      <td>1</td>\n",
       "    </tr>\n",
       "  </tbody>\n",
       "</table>\n",
       "</div>"
      ],
      "text/plain": [
       "   Age  Patient's Years  N_positive_ax  survival_status\n",
       "0   30               64              1                1\n",
       "1   30               62              3                1\n",
       "2   30               65              0                1\n",
       "3   31               59              2                1\n",
       "4   31               65              4                1"
      ]
     },
     "execution_count": 114,
     "metadata": {},
     "output_type": "execute_result"
    }
   ],
   "source": [
    "df.head()"
   ]
  },
  {
   "cell_type": "code",
   "execution_count": 115,
   "metadata": {
    "colab": {},
    "colab_type": "code",
    "id": "-dxYNPg7dGX4"
   },
   "outputs": [
    {
     "data": {
      "text/plain": [
       "1    225\n",
       "2     81\n",
       "Name: survival_status, dtype: int64"
      ]
     },
     "execution_count": 115,
     "metadata": {},
     "output_type": "execute_result"
    }
   ],
   "source": [
    "df['survival_status'].value_counts()"
   ]
  },
  {
   "cell_type": "code",
   "execution_count": 116,
   "metadata": {
    "colab": {},
    "colab_type": "code",
    "id": "8W2amvZgdGYX"
   },
   "outputs": [],
   "source": [
    "from sklearn.neighbors import KNeighborsClassifier\n",
    "from sklearn.model_selection import train_test_split, cross_validate\n",
    "from sklearn.metrics import confusion_matrix, classification_report\n",
    "\n",
    "# Pisahkan data training dan data test \n",
    "X = df.drop('survival_status', axis = 1)\n",
    "y = df['survival_status']\n",
    "\n",
    "X_train, X_test, y_train, y_test = train_test_split(X, y, test_size=0.25, random_state=21)\n",
    "\n",
    "model = KNeighborsClassifier(n_neighbors = 21, weights = 'distance')\n",
    "model.fit(X_train, y_train)\n",
    "\n",
    "y_pred = model.predict(X_test)\n",
    "\n",
    "cv_score = cross_validate(model, X, y, cv = 10, return_train_score = True, scoring = 'roc_auc')\n",
    "test_score = cv_score['test_score'].mean()\n",
    "train_score = cv_score['train_score'].mean()"
   ]
  },
  {
   "cell_type": "code",
   "execution_count": 134,
   "metadata": {},
   "outputs": [
    {
     "data": {
      "text/plain": [
       "(77,)"
      ]
     },
     "execution_count": 134,
     "metadata": {},
     "output_type": "execute_result"
    }
   ],
   "source": [
    "y_test.shape"
   ]
  },
  {
   "cell_type": "code",
   "execution_count": 135,
   "metadata": {},
   "outputs": [
    {
     "data": {
      "text/plain": [
       "(229,)"
      ]
     },
     "execution_count": 135,
     "metadata": {},
     "output_type": "execute_result"
    }
   ],
   "source": [
    "y_train.shape"
   ]
  },
  {
   "cell_type": "code",
   "execution_count": 136,
   "metadata": {},
   "outputs": [
    {
     "data": {
      "text/plain": [
       "(229, 3)"
      ]
     },
     "execution_count": 136,
     "metadata": {},
     "output_type": "execute_result"
    }
   ],
   "source": [
    "X_train.shape"
   ]
  },
  {
   "cell_type": "code",
   "execution_count": 137,
   "metadata": {},
   "outputs": [
    {
     "data": {
      "text/plain": [
       "(77, 3)"
      ]
     },
     "execution_count": 137,
     "metadata": {},
     "output_type": "execute_result"
    }
   ],
   "source": [
    "X_test.shape"
   ]
  },
  {
   "cell_type": "code",
   "execution_count": 117,
   "metadata": {},
   "outputs": [
    {
     "data": {
      "text/plain": [
       "array([[55,  9],\n",
       "       [ 9,  4]], dtype=int64)"
      ]
     },
     "execution_count": 117,
     "metadata": {},
     "output_type": "execute_result"
    }
   ],
   "source": [
    "confusion_matrix(y_test, y_pred)"
   ]
  },
  {
   "cell_type": "code",
   "execution_count": 118,
   "metadata": {
    "scrolled": true
   },
   "outputs": [
    {
     "name": "stdout",
     "output_type": "stream",
     "text": [
      "              precision    recall  f1-score   support\n",
      "\n",
      "           1       0.86      0.86      0.86        64\n",
      "           2       0.31      0.31      0.31        13\n",
      "\n",
      "    accuracy                           0.77        77\n",
      "   macro avg       0.58      0.58      0.58        77\n",
      "weighted avg       0.77      0.77      0.77        77\n",
      "\n"
     ]
    }
   ],
   "source": [
    "report = classification_report(y_test, y_pred)\n",
    "print(report)"
   ]
  },
  {
   "cell_type": "code",
   "execution_count": 119,
   "metadata": {},
   "outputs": [
    {
     "name": "stdout",
     "output_type": "stream",
     "text": [
      "Model ini mampu memprediksi pasien positif dengan nilai precision sebesar 0.86\n",
      "Model ini mampu memprediksi pasien negatif dengan nilai precision sebesar 0.31\n"
     ]
    }
   ],
   "source": [
    "print('Model ini mampu memprediksi pasien positif dengan nilai precision sebesar 0.86')\n",
    "print('Model ini mampu memprediksi pasien negatif dengan nilai precision sebesar 0.31')"
   ]
  },
  {
   "cell_type": "markdown",
   "metadata": {
    "colab_type": "text",
    "id": "I6v_dgoN-7wL"
   },
   "source": [
    "---"
   ]
  },
  {
   "cell_type": "markdown",
   "metadata": {
    "colab_type": "text",
    "id": "teekoyIw--g2"
   },
   "source": [
    "<h1> Soal 3: Pemahaman Tentang Model Selection</h1>\n",
    "\n",
    "Jelaskan dengan bahasa sendiri!\n",
    "\n",
    "1. Apa itu Bias dan Variance?\n",
    "2. Apa itu Overfitting dan Underfitting?\n",
    "3. Apa yang bisa kita lakukan untuk mengatur kompleksitas dari model?\n",
    "4. Bagaimana model yang baik?\n",
    "5. Kapan kita menggunakan GridSearchcv dan kapan menggunakan RandomizedSearchCV?"
   ]
  },
  {
   "cell_type": "markdown",
   "metadata": {
    "colab_type": "text",
    "id": "4a1l4RNf_FcU"
   },
   "source": [
    "Jawab:\n",
    "1. Bias adalah perbedaan rata-rata dari data yang dihasilkan model dengan data yang sebenarnya. Variance adalah variability prediksi model terhadap data point yang menunjukkan sebaran datanya \n",
    "2. Overfitting adalah model yang terlalu kompleks. Underfitting adalah model yang terlalu sederhana sehingga tidak representatif terhadap data aslinya.\n",
    "3. Dengan cara menemukan keseimbangan antara kompleksitas dan error\n",
    "4. Model yang baik adalah model yang memiliki tingkat akurasi yang tinggi dan menunjukkan kesamaan score/akurasi dari variance dan bias \n",
    "5. Grid search digunakan ketika jumlah data yang digunakan sedikit. Randomized search digunakan ketika data yang digunakan banyak."
   ]
  },
  {
   "cell_type": "markdown",
   "metadata": {
    "colab_type": "text",
    "id": "Svj_cgxF_IZv"
   },
   "source": [
    "---"
   ]
  },
  {
   "cell_type": "markdown",
   "metadata": {
    "colab_type": "text",
    "id": "Hkh-PeRL_LZp"
   },
   "source": [
    "<h1> Soal 4: Aplikasi Model Selection</h1>\n",
    "\n",
    "1. Bagi kedua data berikut ini menjadi data training dan data test dengan test_size=0.25.\n",
    "2. Gunakan algoritma KNN sebagai model classifier.\n",
    "3. Gunakan fungsi GridSearchCV untuk hyperparameter tuning dan model selection.\n",
    "4. jumlah fold bebas!, gunakan scoring 'roc_auc'\n",
    "5. Definisikan kombinasi hyperparameter untuk model selection dengan GridSearchCV. kombinasi Hyperparameter bebas, baca lagi dokumentasi KNN di link berikut https://scikit-learn.org/stable/modules/generated/sklearn.neighbors.KNeighborsClassifier.html untuk memahami lagi jenis2 hyperparameter di algorithma KNN.\n",
    "6. Latih model terhadap data training.\n",
    "7. Apa hyperparameter terbaik untuk kombinasi hyperparameter kalian?\n",
    "8. Berapa score validasi terbaik dari model tersebut?\n",
    "9. Prediksi probabilitasi output dari model yang telah di buat terhadap data test. note : gunakan method .predict_proba() untuk menghasilkan output probabilitas\n",
    "10. Perhatikan bahwa hasil prediksi ada 2, dimana masing2 adalah nilai probabilitas untuk setiap class label. Ambil nilai probabilitas pasien phositive meninggal dalam waktu kurang dari 5 tahun. note : gunakan bantuan attirubte .classes_ untuk mengetahui urutan label dari hasil prediksi probabilitas.\n",
    "11. Berapa nilai score roc_auc untuk data test?\n",
    "12. Apakah model anda termasuk baik, overtting, atau underfitting?\n",
    "13. Ulangi tahap di atas namun kali ini menggunakan algoritma DecisionTreeClassifier dan kalian bisa menggunakan RandomizedSearchCV apabila process training lama. pelajari algoritma DecisionTreeClassifier di linkberikut: https://scikit-learn.org/stable/modules/generated/sklearn.tree.DecisionTreeClassifier.html?highlight=decisiontreeclassifier#sklearn.tree.DecisionTreeClassifier\n",
    "14. Bandingkan scorenya dengan Algoritma KNN, mana yang lebih baik?\n",
    "\n",
    "Note : Data Science adalah experiment, sangat di dimungkinkan memerlukan beberapa kali percobaan untuk mendapatkan hasil yang terbaik! Happy Coding :)"
   ]
  },
  {
   "cell_type": "code",
   "execution_count": 120,
   "metadata": {
    "colab": {},
    "colab_type": "code",
    "id": "l_zK8Mqb-9Z6"
   },
   "outputs": [],
   "source": [
    "import pandas as pd\n",
    "\n",
    "url = 'https://raw.githubusercontent.com/jbrownlee/Datasets/master/haberman.csv'\n",
    "list_cols = ['Age', \"Patient's Years\", \"N_positive_ax\", \"survival_status\"]\n",
    "df = pd.read_csv(url, names=list_cols)"
   ]
  },
  {
   "cell_type": "code",
   "execution_count": 121,
   "metadata": {
    "colab": {},
    "colab_type": "code",
    "id": "qb-AD43R_V_d"
   },
   "outputs": [
    {
     "data": {
      "text/html": [
       "<div>\n",
       "<style scoped>\n",
       "    .dataframe tbody tr th:only-of-type {\n",
       "        vertical-align: middle;\n",
       "    }\n",
       "\n",
       "    .dataframe tbody tr th {\n",
       "        vertical-align: top;\n",
       "    }\n",
       "\n",
       "    .dataframe thead th {\n",
       "        text-align: right;\n",
       "    }\n",
       "</style>\n",
       "<table border=\"1\" class=\"dataframe\">\n",
       "  <thead>\n",
       "    <tr style=\"text-align: right;\">\n",
       "      <th></th>\n",
       "      <th>Age</th>\n",
       "      <th>Patient's Years</th>\n",
       "      <th>N_positive_ax</th>\n",
       "      <th>survival_status</th>\n",
       "    </tr>\n",
       "  </thead>\n",
       "  <tbody>\n",
       "    <tr>\n",
       "      <th>0</th>\n",
       "      <td>30</td>\n",
       "      <td>64</td>\n",
       "      <td>1</td>\n",
       "      <td>1</td>\n",
       "    </tr>\n",
       "    <tr>\n",
       "      <th>1</th>\n",
       "      <td>30</td>\n",
       "      <td>62</td>\n",
       "      <td>3</td>\n",
       "      <td>1</td>\n",
       "    </tr>\n",
       "    <tr>\n",
       "      <th>2</th>\n",
       "      <td>30</td>\n",
       "      <td>65</td>\n",
       "      <td>0</td>\n",
       "      <td>1</td>\n",
       "    </tr>\n",
       "    <tr>\n",
       "      <th>3</th>\n",
       "      <td>31</td>\n",
       "      <td>59</td>\n",
       "      <td>2</td>\n",
       "      <td>1</td>\n",
       "    </tr>\n",
       "    <tr>\n",
       "      <th>4</th>\n",
       "      <td>31</td>\n",
       "      <td>65</td>\n",
       "      <td>4</td>\n",
       "      <td>1</td>\n",
       "    </tr>\n",
       "  </tbody>\n",
       "</table>\n",
       "</div>"
      ],
      "text/plain": [
       "   Age  Patient's Years  N_positive_ax  survival_status\n",
       "0   30               64              1                1\n",
       "1   30               62              3                1\n",
       "2   30               65              0                1\n",
       "3   31               59              2                1\n",
       "4   31               65              4                1"
      ]
     },
     "execution_count": 121,
     "metadata": {},
     "output_type": "execute_result"
    }
   ],
   "source": [
    "df.head()"
   ]
  },
  {
   "cell_type": "code",
   "execution_count": 122,
   "metadata": {
    "colab": {},
    "colab_type": "code",
    "id": "znc1dEGO_XU2"
   },
   "outputs": [
    {
     "name": "stdout",
     "output_type": "stream",
     "text": [
      "Kombinasi hyperparameter terbaik adalah {'n_neighbors': 21, 'weights': 'uniform'} dengan score validasi sebesar 0.7402899184149183\n"
     ]
    }
   ],
   "source": [
    "from sklearn.model_selection import GridSearchCV, RandomizedSearchCV\n",
    "from sklearn.metrics import roc_auc_score\n",
    "import numpy as np\n",
    "\n",
    "# Pisahkan data training dan data test\n",
    "X = df.drop('survival_status', axis = 1)\n",
    "y = df['survival_status']\n",
    "\n",
    "X_train, X_test, y_train, y_test = train_test_split(X, y, test_size=0.25, random_state=21)\n",
    "\n",
    "model_knn = KNeighborsClassifier()\n",
    "parameter_knn = {'n_neighbors': np.arange(2,25), 'weights':['uniform','distance']}\n",
    "\n",
    "gscv_knn = GridSearchCV(model_knn, param_grid = parameter_knn, scoring = 'roc_auc', cv = 5)\n",
    "gscv_knn.fit(X_train, y_train)\n",
    "print('Kombinasi hyperparameter terbaik dengan menggunakan model KNN adalah',gscv.best_params_,'dengan score validasi sebesar', gscv.best_score_)"
   ]
  },
  {
   "cell_type": "code",
   "execution_count": 123,
   "metadata": {},
   "outputs": [
    {
     "data": {
      "text/plain": [
       "array([[0.85714286, 0.14285714],\n",
       "       [0.80952381, 0.19047619],\n",
       "       [0.71428571, 0.28571429],\n",
       "       [0.9047619 , 0.0952381 ],\n",
       "       [0.95238095, 0.04761905],\n",
       "       [0.42857143, 0.57142857],\n",
       "       [0.76190476, 0.23809524],\n",
       "       [0.52380952, 0.47619048],\n",
       "       [0.71428571, 0.28571429],\n",
       "       [0.76190476, 0.23809524],\n",
       "       [0.85714286, 0.14285714],\n",
       "       [0.9047619 , 0.0952381 ],\n",
       "       [0.80952381, 0.19047619],\n",
       "       [0.38095238, 0.61904762],\n",
       "       [0.66666667, 0.33333333],\n",
       "       [0.71428571, 0.28571429],\n",
       "       [0.76190476, 0.23809524],\n",
       "       [0.85714286, 0.14285714],\n",
       "       [0.76190476, 0.23809524],\n",
       "       [0.76190476, 0.23809524],\n",
       "       [0.80952381, 0.19047619],\n",
       "       [0.66666667, 0.33333333],\n",
       "       [0.76190476, 0.23809524],\n",
       "       [0.80952381, 0.19047619],\n",
       "       [0.85714286, 0.14285714],\n",
       "       [0.80952381, 0.19047619],\n",
       "       [0.85714286, 0.14285714],\n",
       "       [0.9047619 , 0.0952381 ],\n",
       "       [0.9047619 , 0.0952381 ],\n",
       "       [0.76190476, 0.23809524],\n",
       "       [0.71428571, 0.28571429],\n",
       "       [0.9047619 , 0.0952381 ],\n",
       "       [0.80952381, 0.19047619],\n",
       "       [0.71428571, 0.28571429],\n",
       "       [0.42857143, 0.57142857],\n",
       "       [0.76190476, 0.23809524],\n",
       "       [0.38095238, 0.61904762],\n",
       "       [0.61904762, 0.38095238],\n",
       "       [0.76190476, 0.23809524],\n",
       "       [0.85714286, 0.14285714],\n",
       "       [0.76190476, 0.23809524],\n",
       "       [0.38095238, 0.61904762],\n",
       "       [0.80952381, 0.19047619],\n",
       "       [0.85714286, 0.14285714],\n",
       "       [0.66666667, 0.33333333],\n",
       "       [0.85714286, 0.14285714],\n",
       "       [0.85714286, 0.14285714],\n",
       "       [0.42857143, 0.57142857],\n",
       "       [0.71428571, 0.28571429],\n",
       "       [0.85714286, 0.14285714],\n",
       "       [0.80952381, 0.19047619],\n",
       "       [0.80952381, 0.19047619],\n",
       "       [0.95238095, 0.04761905],\n",
       "       [0.33333333, 0.66666667],\n",
       "       [0.61904762, 0.38095238],\n",
       "       [0.95238095, 0.04761905],\n",
       "       [0.76190476, 0.23809524],\n",
       "       [0.80952381, 0.19047619],\n",
       "       [0.9047619 , 0.0952381 ],\n",
       "       [0.47619048, 0.52380952],\n",
       "       [0.80952381, 0.19047619],\n",
       "       [0.85714286, 0.14285714],\n",
       "       [0.66666667, 0.33333333],\n",
       "       [0.71428571, 0.28571429],\n",
       "       [0.71428571, 0.28571429],\n",
       "       [0.85714286, 0.14285714],\n",
       "       [0.38095238, 0.61904762],\n",
       "       [0.9047619 , 0.0952381 ],\n",
       "       [0.71428571, 0.28571429],\n",
       "       [0.76190476, 0.23809524],\n",
       "       [0.9047619 , 0.0952381 ],\n",
       "       [0.52380952, 0.47619048],\n",
       "       [0.66666667, 0.33333333],\n",
       "       [0.76190476, 0.23809524],\n",
       "       [0.9047619 , 0.0952381 ],\n",
       "       [1.        , 0.        ],\n",
       "       [0.61904762, 0.38095238]])"
      ]
     },
     "execution_count": 123,
     "metadata": {},
     "output_type": "execute_result"
    }
   ],
   "source": [
    "gscv_knn.predict_proba(X_test)"
   ]
  },
  {
   "cell_type": "code",
   "execution_count": 124,
   "metadata": {},
   "outputs": [
    {
     "name": "stdout",
     "output_type": "stream",
     "text": [
      "roc auc scorer dari data test adalah 0.7325721153846154\n",
      "dengan demikian, model tersebut cukup baik dalam melakukan prediksi\n"
     ]
    }
   ],
   "source": [
    "print('roc auc scorer dari data test menggunakan model KNN adalah', roc_auc_score(y_test, gscv_knn.predict_proba(X_test)[:,1]))\n",
    "print('dengan demikian, model tersebut cukup baik dalam melakukan prediksi')"
   ]
  },
  {
   "cell_type": "code",
   "execution_count": 127,
   "metadata": {},
   "outputs": [
    {
     "name": "stdout",
     "output_type": "stream",
     "text": [
      "Kombinasi hyperparameter terbaik dengan menggunakan decision tree adalah {'criterion': 'gini', 'splitter': 'random'} dengan score validasi sebesar 0.6390245171495172\n"
     ]
    }
   ],
   "source": [
    "from sklearn.tree import DecisionTreeClassifier\n",
    "\n",
    "model_tree = DecisionTreeClassifier()\n",
    "parameter_tree = {'criterion': ['gini','entropy'], 'splitter':['best','random']}\n",
    "\n",
    "gscv_tree = GridSearchCV(model_tree, param_grid = parameter_tree, scoring = 'roc_auc', cv = 5)\n",
    "gscv_tree.fit(X_train, y_train)\n",
    "print('Kombinasi hyperparameter terbaik dengan menggunakan decision tree adalah',gscv.best_params_,'dengan score validasi sebesar', gscv.best_score_)"
   ]
  },
  {
   "cell_type": "code",
   "execution_count": 129,
   "metadata": {},
   "outputs": [
    {
     "name": "stdout",
     "output_type": "stream",
     "text": [
      "roc auc scorer dari data test adalah 0.6520432692307692\n",
      "dengan demikian, model tersebut cukup baik dalam melakukan prediksi\n"
     ]
    }
   ],
   "source": [
    "print('roc auc scorer dari data test menggunakan model decision tree adalah', roc_auc_score(y_test, gscv_tree.predict_proba(X_test)[:,1]))\n",
    "print('dengan demikian, model tersebut cukup baik dalam melakukan prediksi')"
   ]
  },
  {
   "cell_type": "code",
   "execution_count": 130,
   "metadata": {},
   "outputs": [
    {
     "name": "stdout",
     "output_type": "stream",
     "text": [
      "roc auc score dari model KNN lebih besar daripada roc auc score dari model decision tree, dengan demikian dalam kasus ini model KNN lebih baik dalam memprediksi\n"
     ]
    }
   ],
   "source": [
    "print('roc auc score dari model KNN lebih besar daripada roc auc score dari model decision tree, dengan demikian dalam kasus ini model KNN lebih baik dalam memprediksi')"
   ]
  }
 ],
 "metadata": {
  "colab": {
   "collapsed_sections": [],
   "name": "Tugas Hari 3 Pekan 4.ipynb",
   "provenance": []
  },
  "kernelspec": {
   "display_name": "Python 3",
   "language": "python",
   "name": "python3"
  },
  "language_info": {
   "codemirror_mode": {
    "name": "ipython",
    "version": 3
   },
   "file_extension": ".py",
   "mimetype": "text/x-python",
   "name": "python",
   "nbconvert_exporter": "python",
   "pygments_lexer": "ipython3",
   "version": "3.8.3"
  }
 },
 "nbformat": 4,
 "nbformat_minor": 1
}
