{
 "cells": [
  {
   "cell_type": "markdown",
   "metadata": {
    "colab_type": "text",
    "id": "a9HYUdCUsrKl"
   },
   "source": [
    "<h2>Soal 1: Comparison Operator</h2>\n",
    "\n",
    "- Berikan contoh comparison dari tipe data string\n",
    "- Berikan contoh comparison dari tipe data boolean\n",
    "- Berikan contoh comparison dari tipe data integer"
   ]
  },
  {
   "cell_type": "code",
   "execution_count": 13,
   "metadata": {
    "colab": {},
    "colab_type": "code",
    "id": "lXMCHZ71srKp"
   },
   "outputs": [
    {
     "name": "stdout",
     "output_type": "stream",
     "text": [
      "Apakah kamu ganteng (ya/tidak) : ya\n",
      "good boy!!!\n",
      "Saya tanya sekali lagi, apakah kamu beneran ganteng (ya/tidak) : ya\n",
      "True Kamu beneran ganteng\n",
      "Skala 0 sampai 10, berapa tingkat kegantengan kamu: 6.7\n",
      "Kamu ganteng level dewa!\n"
     ]
    }
   ],
   "source": [
    "# tipe data string\n",
    "a = input('Apakah kamu ganteng (ya/tidak) : ')\n",
    "\n",
    "if a == 'ya':\n",
    "    print('good boy!!!')\n",
    "elif a == 'tidak':\n",
    "    print('kasihan sekali kamu')\n",
    "else:\n",
    "    print('no comment!')\n",
    "    \n",
    "# tipe data boolean \n",
    "b = input('Saya tanya sekali lagi, apakah kamu beneran ganteng (ya/tidak) : ')\n",
    "print(b==a,'Kamu beneran ganteng')\n",
    "\n",
    "# tipe data integer \n",
    "nilai = input('Skala 0 sampai 10, berapa tingkat kegantengan kamu: ')\n",
    "nilai = float(nilai)\n",
    "\n",
    "if 9 < nilai <= 10:\n",
    "    print('Kamu adalah puncak segala kegantengan!')\n",
    "elif 8 < nilai <= 9:\n",
    "    print('Kamu ganteng level dewa!')\n",
    "elif 7 < nilai <= 8:\n",
    "    print('Kamu cukup ganteng!')\n",
    "elif 6 < nilai <= 7:\n",
    "    print('Kamu ganteng B aja!')\n",
    "else:\n",
    "    print('Kamu sama sekali tidak ganteng!')"
   ]
  },
  {
   "cell_type": "markdown",
   "metadata": {
    "colab_type": "text",
    "id": "IbNoZvVssrK5"
   },
   "source": [
    "<h2>Soal 2: Boolean Comparison</h2>\n",
    "\n",
    "- Berikan contoh gabungan multiple comparison menggunkan Boolean Comparisin 'and'\n",
    "- Berikan contoh gabungan multiple comparison menggunkan Boolean Comparisin 'or'\n",
    "- Berikan contoh gabungan multiple comparison menggunkan Boolean Comparisin 'not'"
   ]
  },
  {
   "cell_type": "code",
   "execution_count": 22,
   "metadata": {
    "colab": {},
    "colab_type": "code",
    "id": "7eU1vPLCsrK7"
   },
   "outputs": [
    {
     "name": "stdout",
     "output_type": "stream",
     "text": [
      "Kalau kamu ganteng dan tajir maka kamu bahagia. True\n",
      "Kalau kamu ganteng atau tajir maka kamu patut bersyukur. True\n",
      "Kalau kamu tidak ganteng dan tidak tajir maka kamu kasihan. False\n"
     ]
    }
   ],
   "source": [
    "def bahagia(ganteng,tajir):\n",
    "    return ganteng and tajir \n",
    "\n",
    "def lumayan(ganteng,tajir):\n",
    "    return ganteng or tajir \n",
    "\n",
    "def kasihan(ganteng,tajir):\n",
    "    return not ganteng and tajir\n",
    "\n",
    "print('Kalau kamu ganteng dan tajir maka kamu bahagia.', bahagia(True,True))\n",
    "print('Kalau kamu ganteng atau tajir maka kamu patut bersyukur.', lumayan(False,True))\n",
    "print('Kalau kamu tidak ganteng dan tidak tajir maka kamu kasihan.', kasihan(False,False))"
   ]
  },
  {
   "cell_type": "markdown",
   "metadata": {
    "colab_type": "text",
    "id": "Yp_g_sPMsrLH"
   },
   "source": [
    "<h2>Soal 3: If-Else Statement</h2>\n",
    "\n",
    "Lengkapi kode untuk menghasilkan suatu output yang di harapkan\n",
    "\n",
    "- Bualah sebuah if-else statement yang dimana akan mem-print 'Besar' jika ruangan adalah 'Kamar' dan ukuran lebih dari 12, kemudian mem-print 'Sedang' jika ruangan adalah 'Kamar' dan ukuran lebih dari 6 dan memprint 'Kecil' jika ruangan adalah 'Kamar' dan ukuran ruangan lebih kecil dan sama dengan 6."
   ]
  },
  {
   "cell_type": "code",
   "execution_count": 23,
   "metadata": {
    "colab": {},
    "colab_type": "code",
    "id": "euRiRNupsrLK"
   },
   "outputs": [
    {
     "name": "stdout",
     "output_type": "stream",
     "text": [
      "Besar\n"
     ]
    }
   ],
   "source": [
    "ruangan = 'Kamar'\n",
    "size = 20\n",
    "\n",
    "if ruangan == 'Kamar' and size > 12:\n",
    "    print('Besar')\n",
    "elif ruangan == 'Kamar' and 6 < size <= 12:\n",
    "    print('Sedang')\n",
    "elif ruangan == 'Kamar' and size <= 6:\n",
    "    print('Kecil')\n",
    "else:\n",
    "    print('Tidak tahu')"
   ]
  },
  {
   "cell_type": "markdown",
   "metadata": {
    "colab_type": "text",
    "id": "IcoJXJT1srLW"
   },
   "source": [
    "<h2>Soal 4: Comparison Operator dengan fungsi</h2>\n",
    "\n",
    "Buatlah sebuah fungsi yang menerima satu argument bertipe data numeric dan menghasilkan sebuah return sebagai berikut :\n",
    "- menghasilkan return 'Aneh' jika nilai dari argument tersebut adalah bilangan ganjil\n",
    "- menghasilkan return 'Tidak Aneh' jika nilai dari argument tersebut adalah bilangan genap dan diantara nilai 2 sampai 5 (2 dan 5 termasuk)\n",
    "- menghasilkan return 'Aneh' jika nilai dari argument tersebut adalah bilangan genap dan diantara nilai 6 sampai 20 (6 dan 20 termasuk)\n",
    "- menghasilkan return 'Tidak Aneh' jika nilai dari argument tersebut adalah bilangan genap dan lebih besari dari 20"
   ]
  },
  {
   "cell_type": "code",
   "execution_count": 35,
   "metadata": {
    "colab": {},
    "colab_type": "code",
    "id": "g8F_qfEKsrLZ"
   },
   "outputs": [
    {
     "data": {
      "text/plain": [
       "'Aneh'"
      ]
     },
     "execution_count": 35,
     "metadata": {},
     "output_type": "execute_result"
    }
   ],
   "source": [
    "def cek_data(x):\n",
    "    if x % 2 != 0:\n",
    "        return ('Aneh')\n",
    "    else: \n",
    "        if 2 <= x <= 5:\n",
    "            return ('Tidak Aneh')\n",
    "        elif 6 <= x <= 20:\n",
    "            return ('Aneh')\n",
    "        elif x >= 20:\n",
    "            return ('Tidak Aneh')\n",
    "        \n",
    "cek_data(12)\n"
   ]
  },
  {
   "cell_type": "markdown",
   "metadata": {
    "colab_type": "text",
    "id": "gf0D64xOsrLl"
   },
   "source": [
    "<h2>Soal 5: While Loop dan For Loop</h2>\n",
    "\n",
    "- Apa perbedaan while loop dan for loop?\n",
    "- Berikan contoh sederhana cara menggunakan while loop dan for loop"
   ]
  },
  {
   "cell_type": "code",
   "execution_count": 40,
   "metadata": {
    "colab": {},
    "colab_type": "code",
    "id": "l7KIgpjHsrLo"
   },
   "outputs": [
    {
     "name": "stdout",
     "output_type": "stream",
     "text": [
      "Hari ini adalah hari Senin\n",
      "Hari ini adalah hari Selasa\n",
      "Hari ini adalah hari Rabu\n",
      "Hari ini adalah hari Kamis\n",
      "Hari ini adalah hari Jumat\n",
      "Hari ini adalah hari Sabtu\n",
      "Hari ini adalah hari Minggu\n",
      "Alhamdulillah\n",
      "Alhamdulillah\n",
      "Alhamdulillah\n",
      "Alhamdulillah\n",
      "Alhamdulillah\n",
      "Alhamdulillah\n",
      "Alhamdulillah\n",
      "Alhamdulillah\n",
      "Alhamdulillah\n",
      "Alhamdulillah\n",
      "Alhamdulillah\n",
      "Alhamdulillah\n",
      "Alhamdulillah\n",
      "Alhamdulillah\n",
      "Alhamdulillah\n",
      "Alhamdulillah\n",
      "Alhamdulillah\n",
      "Alhamdulillah\n",
      "Alhamdulillah\n",
      "Alhamdulillah\n",
      "Alhamdulillah\n",
      "Alhamdulillah\n",
      "Alhamdulillah\n",
      "Alhamdulillah\n",
      "Alhamdulillah\n",
      "Alhamdulillah\n",
      "Alhamdulillah\n",
      "Alhamdulillah\n",
      "Alhamdulillah\n",
      "Alhamdulillah\n",
      "Alhamdulillah\n",
      "Alhamdulillah\n",
      "Alhamdulillah\n"
     ]
    }
   ],
   "source": [
    "# While loop adalah perulangan yang terus dijalankan sampai berhenti apabila suatu kondisi sudah terpenuhi\n",
    "# For loop adalah perulangan yang terus dijalankan hanya terbatas sampai beberapa kali saja\n",
    "\n",
    "# contoh for loop\n",
    "minggu = ['Senin','Selasa','Rabu','Kamis','Jumat','Sabtu','Minggu']\n",
    "\n",
    "for hari in minggu:\n",
    "    print('Hari ini adalah hari',hari)\n",
    "    \n",
    "# contoh while loop \n",
    "dzikir = 1\n",
    "while dzikir <= 33:\n",
    "    print('Alhamdulillah')\n",
    "    dzikir += 1"
   ]
  },
  {
   "cell_type": "markdown",
   "metadata": {
    "colab_type": "text",
    "id": "fZQpBGCgsrLz"
   },
   "source": [
    "<h2>Soal 6: While Loop</h2>\n",
    "    \n",
    "Buatlah sebuah code while loop sebagai berikut :\n",
    "- Buatlah suatu fungsi yang merima satu input nilai numeric\n",
    "- Dalam fungsi, Buat sebuah while-loop dengan melakukan comparasi terhadap inputan tersebut, dimana looping/iterasi terus berjalan apabila nilai inputan tidak sama dengan 0\n",
    "- Dalam setiap iterasi update nilai variable inputan itu, jika input lebih dari 0, maka kurangi variabel tersebut sebesar 1, selain itu tambahkan 1\n",
    "- print nilai variable input dalam setiap awal iterasi"
   ]
  },
  {
   "cell_type": "code",
   "execution_count": 42,
   "metadata": {
    "colab": {},
    "colab_type": "code",
    "id": "yOiqjrU2srL1"
   },
   "outputs": [
    {
     "name": "stdout",
     "output_type": "stream",
     "text": [
      "-10\n",
      "-9\n",
      "-8\n",
      "-7\n",
      "-6\n",
      "-5\n",
      "-4\n",
      "-3\n",
      "-2\n",
      "-1\n"
     ]
    }
   ],
   "source": [
    "a = 10\n",
    "\n",
    "def fungsi_while(angka):\n",
    "    while angka != 0:\n",
    "        print(angka)\n",
    "        if angka > 0:\n",
    "            angka -= 1\n",
    "        elif angka < 0:\n",
    "            angka += 1\n",
    "\n",
    "fungsi_while(-a)"
   ]
  },
  {
   "cell_type": "markdown",
   "metadata": {
    "colab_type": "text",
    "id": "lKzngRrlsrMD"
   },
   "source": [
    "Expected Output:\n",
    "\n",
    "10\n",
    "\n",
    "9\n",
    "\n",
    "8\n",
    "\n",
    "7\n",
    "\n",
    "6\n",
    "\n",
    "5\n",
    "\n",
    "4\n",
    "\n",
    "3\n",
    "\n",
    "2\n",
    "\n",
    "1"
   ]
  },
  {
   "cell_type": "markdown",
   "metadata": {
    "colab_type": "text",
    "id": "IWg3Z_zZsrMG"
   },
   "source": [
    "<h2>Soal 7: For Loop</h2>\n",
    "    \n",
    "Lengkapi kode untuk menghasilkan suatu output yang di harapkan:\n",
    "\n",
    "- Buatlah sebuah loop dengan mengiterasi sebuah objek list kemudian di kalikan dengan index dari list tersebut dan print hasilnya"
   ]
  },
  {
   "cell_type": "code",
   "execution_count": 44,
   "metadata": {
    "colab": {},
    "colab_type": "code",
    "id": "_Jl5i7WKsrMI"
   },
   "outputs": [
    {
     "name": "stdout",
     "output_type": "stream",
     "text": [
      "0\n",
      "16\n",
      "22\n",
      "30\n",
      "20\n"
     ]
    }
   ],
   "source": [
    "obj_list= [1, 16, 11, 10, 5]\n",
    "\n",
    "# lengkapi code di bawah\n",
    "for pengali, angka in enumerate(obj_list):\n",
    "    print(pengali*angka)\n"
   ]
  },
  {
   "cell_type": "markdown",
   "metadata": {
    "colab_type": "text",
    "id": "OGawROjnsrMU"
   },
   "source": [
    "Expected Output:\n",
    "\n",
    "0\n",
    "\n",
    "16\n",
    "\n",
    "22\n",
    "\n",
    "30\n",
    "\n",
    "20\n"
   ]
  }
 ],
 "metadata": {
  "colab": {
   "name": "Tugas Hari 4.ipynb",
   "provenance": []
  },
  "kernelspec": {
   "display_name": "Python 3",
   "language": "python",
   "name": "python3"
  },
  "language_info": {
   "codemirror_mode": {
    "name": "ipython",
    "version": 3
   },
   "file_extension": ".py",
   "mimetype": "text/x-python",
   "name": "python",
   "nbconvert_exporter": "python",
   "pygments_lexer": "ipython3",
   "version": "3.8.3"
  }
 },
 "nbformat": 4,
 "nbformat_minor": 1
}
