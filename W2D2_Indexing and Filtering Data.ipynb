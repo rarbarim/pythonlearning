{
 "cells": [
  {
   "cell_type": "code",
   "execution_count": 28,
   "metadata": {
    "colab": {},
    "colab_type": "code",
    "id": "GyakVoXhBGrv",
    "outputId": "39b8ca38-73c2-4f96-a16b-9898575919b9"
   },
   "outputs": [
    {
     "data": {
      "text/html": [
       "<div>\n",
       "<style scoped>\n",
       "    .dataframe tbody tr th:only-of-type {\n",
       "        vertical-align: middle;\n",
       "    }\n",
       "\n",
       "    .dataframe tbody tr th {\n",
       "        vertical-align: top;\n",
       "    }\n",
       "\n",
       "    .dataframe thead th {\n",
       "        text-align: right;\n",
       "    }\n",
       "</style>\n",
       "<table border=\"1\" class=\"dataframe\">\n",
       "  <thead>\n",
       "    <tr style=\"text-align: right;\">\n",
       "      <th></th>\n",
       "      <th>siswa_id</th>\n",
       "      <th>pelajaran</th>\n",
       "      <th>nilai</th>\n",
       "      <th>jenis_kelamin</th>\n",
       "      <th>kelas</th>\n",
       "    </tr>\n",
       "  </thead>\n",
       "  <tbody>\n",
       "    <tr>\n",
       "      <th>0</th>\n",
       "      <td>1</td>\n",
       "      <td>Matematika</td>\n",
       "      <td>32</td>\n",
       "      <td>perempuan</td>\n",
       "      <td>12B</td>\n",
       "    </tr>\n",
       "    <tr>\n",
       "      <th>1</th>\n",
       "      <td>2</td>\n",
       "      <td>Matematika</td>\n",
       "      <td>35</td>\n",
       "      <td>perempuan</td>\n",
       "      <td>12C</td>\n",
       "    </tr>\n",
       "    <tr>\n",
       "      <th>2</th>\n",
       "      <td>3</td>\n",
       "      <td>Ekonomi</td>\n",
       "      <td>24</td>\n",
       "      <td>laki-laki</td>\n",
       "      <td>12C</td>\n",
       "    </tr>\n",
       "    <tr>\n",
       "      <th>3</th>\n",
       "      <td>4</td>\n",
       "      <td>Kimia</td>\n",
       "      <td>27</td>\n",
       "      <td>perempuan</td>\n",
       "      <td>12D</td>\n",
       "    </tr>\n",
       "    <tr>\n",
       "      <th>4</th>\n",
       "      <td>5</td>\n",
       "      <td>Kimia</td>\n",
       "      <td>63</td>\n",
       "      <td>perempuan</td>\n",
       "      <td>12D</td>\n",
       "    </tr>\n",
       "  </tbody>\n",
       "</table>\n",
       "</div>"
      ],
      "text/plain": [
       "   siswa_id   pelajaran  nilai jenis_kelamin kelas\n",
       "0         1  Matematika     32     perempuan   12B\n",
       "1         2  Matematika     35     perempuan   12C\n",
       "2         3     Ekonomi     24     laki-laki   12C\n",
       "3         4       Kimia     27     perempuan   12D\n",
       "4         5       Kimia     63     perempuan   12D"
      ]
     },
     "execution_count": 28,
     "metadata": {},
     "output_type": "execute_result"
    }
   ],
   "source": [
    "# Persiapan membuat data\n",
    "import pandas as pd\n",
    "import random\n",
    "\n",
    "pelajaran = ['Matematika', 'Fisika', 'Biologi', 'Kimia', 'Geologi', 'Ekonomi']\n",
    "kelas = ['12A', '12B', '12C', '12D']\n",
    "\n",
    "hasil_nilai = {\n",
    "    'siswa_id' : range(1, 21),\n",
    "    'pelajaran' : [random.choice(pelajaran) for i in range(20)],\n",
    "    'nilai' : [random.choice(range(0, 100)) for i in range(20)],\n",
    "    'jenis_kelamin' : [random.choice(['laki-laki', 'perempuan']) for i in range(20)],\n",
    "    'kelas' : [random.choice(kelas) for i in range(20)]\n",
    "}\n",
    "\n",
    "df = pd.DataFrame(hasil_nilai)\n",
    "df.head()"
   ]
  },
  {
   "cell_type": "markdown",
   "metadata": {
    "colab_type": "text",
    "id": "aNoScqypBGr5"
   },
   "source": [
    "<h2>Soal 1: Indexing</h2>\n",
    "\n",
    "1. Lakukan indexing terhadap dataframe untuk mengakses column nilai dan kelas saja\n",
    "2. Lakukan indexing terhadap dataframe untuk mengakses row 5 sampai 10 beserta column pelajaran dan nilai"
   ]
  },
  {
   "cell_type": "code",
   "execution_count": 29,
   "metadata": {
    "colab": {},
    "colab_type": "code",
    "id": "rKmgvnS2BGr6"
   },
   "outputs": [
    {
     "name": "stdout",
     "output_type": "stream",
     "text": [
      "    nilai kelas\n",
      "0      32   12B\n",
      "1      35   12C\n",
      "2      24   12C\n",
      "3      27   12D\n",
      "4      63   12D\n",
      "5      22   12C\n",
      "6       8   12D\n",
      "7      62   12C\n",
      "8       5   12D\n",
      "9      75   12C\n",
      "10     79   12B\n",
      "11     29   12A\n",
      "12     73   12D\n",
      "13     71   12C\n",
      "14     88   12A\n",
      "15     39   12B\n",
      "16     45   12D\n",
      "17     54   12A\n",
      "18      6   12C\n",
      "19     99   12D \n",
      "\n",
      "   pelajaran kelas\n",
      "5      Kimia   12C\n",
      "6    Ekonomi   12D\n",
      "7    Biologi   12C\n",
      "8      Kimia   12D\n",
      "9     Fisika   12C\n",
      "10    Fisika   12B \n",
      "\n"
     ]
    }
   ],
   "source": [
    "# code here\n",
    "print(df.loc[:,['nilai','kelas']],'\\n')\n",
    "\n",
    "print(df.loc[5:10,['pelajaran','kelas']],'\\n')"
   ]
  },
  {
   "cell_type": "markdown",
   "metadata": {
    "colab_type": "text",
    "id": "F55zUl5GBGr_"
   },
   "source": [
    "<h2>Soal 2: Filter DataFrame Dengan Boolean</h2>\n",
    "\n",
    "1. Tampilkan semua data siswa pada mata pelajaran Ekonomi dan Fisika\n",
    "2. Tampilkan semua data siswa yang mempunyai nilai lebih dari 50 di mata pelajaran Kimia \n",
    "3. Tampilkan semua data yang mempunyai nilai lebih dari 70, berjnis kelamin perempuan dan di kelas 12C"
   ]
  },
  {
   "cell_type": "code",
   "execution_count": 30,
   "metadata": {
    "colab": {},
    "colab_type": "code",
    "id": "eB5oSf_KBGsA"
   },
   "outputs": [
    {
     "name": "stdout",
     "output_type": "stream",
     "text": [
      "    siswa_id pelajaran  nilai jenis_kelamin kelas\n",
      "2          3   Ekonomi     24     laki-laki   12C\n",
      "6          7   Ekonomi      8     laki-laki   12D\n",
      "9         10    Fisika     75     laki-laki   12C\n",
      "10        11    Fisika     79     laki-laki   12B\n",
      "11        12   Ekonomi     29     laki-laki   12A\n",
      "13        14   Ekonomi     71     laki-laki   12C\n",
      "15        16   Ekonomi     39     laki-laki   12B\n",
      "19        20    Fisika     99     perempuan   12D \n",
      "\n",
      "   siswa_id pelajaran  nilai jenis_kelamin kelas\n",
      "4         5     Kimia     63     perempuan   12D \n",
      "\n",
      "Empty DataFrame\n",
      "Columns: [siswa_id, pelajaran, nilai, jenis_kelamin, kelas]\n",
      "Index: [] \n",
      "\n"
     ]
    }
   ],
   "source": [
    "# code here\n",
    "\n",
    "Ekonomi = df.pelajaran == 'Ekonomi' \n",
    "Fisika = df.pelajaran == 'Fisika'\n",
    "Kimia = df.pelajaran == 'Kimia'\n",
    "nilai50 = df.nilai > 50\n",
    "nilai70 = df.nilai > 70\n",
    "perempuan = df.jenis_kelamin == 'perempuan'\n",
    "kelas12C = df.kelas == '12C'\n",
    "\n",
    "print(df[(Fisika) | (Ekonomi)],'\\n')\n",
    "\n",
    "print(df[(Kimia) & (nilai50)],'\\n')\n",
    "\n",
    "print(df[(perempuan) & (nilai70) & (kelas12C)],'\\n')\n"
   ]
  },
  {
   "cell_type": "markdown",
   "metadata": {
    "colab_type": "text",
    "id": "6Od6R3H1BGsE"
   },
   "source": [
    "<h2>Soal 3: Data Transformation</h2>\n",
    "\n",
    "lakukan data transformasi terhadap column 'nilai' dengan fungsi transformasi, berikut rumus dari normalisasi\n",
    "\n",
    "![alt text](https://drive.google.com/uc?id=1wed-EbRSTA0JP1ceDp6lcKBqH2yJ4aa3)"
   ]
  },
  {
   "cell_type": "code",
   "execution_count": 33,
   "metadata": {
    "colab": {},
    "colab_type": "code",
    "id": "qeV_iH8nBGsF"
   },
   "outputs": [
    {
     "name": "stdout",
     "output_type": "stream",
     "text": [
      "       nilai\n",
      "0   0.287234\n",
      "1   0.319149\n",
      "2   0.202128\n",
      "3   0.234043\n",
      "4   0.617021\n",
      "5   0.180851\n",
      "6   0.031915\n",
      "7   0.606383\n",
      "8   0.000000\n",
      "9   0.744681\n",
      "10  0.787234\n",
      "11  0.255319\n",
      "12  0.723404\n",
      "13  0.702128\n",
      "14  0.882979\n",
      "15  0.361702\n",
      "16  0.425532\n",
      "17  0.521277\n",
      "18  0.010638\n",
      "19  1.000000\n"
     ]
    }
   ],
   "source": [
    "# code here\n",
    "def normalized(x):\n",
    "    Xnormalized = (x - x.min())/(x.max() - x.min())\n",
    "    return Xnormalized\n",
    "\n",
    "print(df[['nilai']].apply(normalized))"
   ]
  },
  {
   "cell_type": "code",
   "execution_count": null,
   "metadata": {},
   "outputs": [],
   "source": []
  }
 ],
 "metadata": {
  "colab": {
   "name": "Tugas Hari 2 Pekan 2.ipynb",
   "provenance": []
  },
  "kernelspec": {
   "display_name": "Python 3",
   "language": "python",
   "name": "python3"
  },
  "language_info": {
   "codemirror_mode": {
    "name": "ipython",
    "version": 3
   },
   "file_extension": ".py",
   "mimetype": "text/x-python",
   "name": "python",
   "nbconvert_exporter": "python",
   "pygments_lexer": "ipython3",
   "version": "3.8.3"
  }
 },
 "nbformat": 4,
 "nbformat_minor": 1
}
